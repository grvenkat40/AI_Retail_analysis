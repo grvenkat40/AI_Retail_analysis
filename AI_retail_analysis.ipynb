{
 "cells": [
  {
   "cell_type": "markdown",
   "id": "c4722cd2-dde7-4761-8a95-616f29e1a902",
   "metadata": {},
   "source": [
    "## AI Retail Analysis"
   ]
  },
  {
   "cell_type": "markdown",
   "id": "90012c69-d3c4-49d5-8281-b1f4062fecc4",
   "metadata": {},
   "source": [
    "## It explores the impact and adoption of AI technologies in the retail industry, with a focus on customer demographics, preferences, payment methods, and AI-enabled tools."
   ]
  },
  {
   "cell_type": "markdown",
   "id": "054bb34c-cb40-42f0-ab87-9f3aac7f52d2",
   "metadata": {},
   "source": [
    "### Source\n",
    "This dataset, titled \"AI in Retail Dataset\", was obtained from [Kaggle's AI Retail Consumer Behavior dataset]. It contains synthetic/real-world data designed to analyze consumer behavior, payment methods, and AI adoption in the retail sector. The dataset was used solely for academic and research purposes."
   ]
  },
  {
   "cell_type": "markdown",
   "id": "f28b62b1-9b59-4298-be85-4ebd492502b9",
   "metadata": {},
   "source": [
    "### Dataset Information\n",
    "\n",
    "#### Title:  \n",
    "**AI in Retail Dataset**\n",
    "\n",
    "#### Description:  \n",
    "This dataset explores the intersection of Artificial Intelligence (AI) and the retail industry, focusing on consumer preferences, behaviors, and the adoption of AI technologies. It includes detailed information about demographics, payment preferences, and AI tools used, as well as satisfaction and privacy concerns related to AI in retail.\n",
    "\n",
    "#### Size:  \n",
    "- **Rows**: 656  \n",
    "- **Columns**: 23  \n",
    "\n",
    "#### Key Features:  \n",
    "1. **Demographics**:  \n",
    "   - `Country`: Country of the respondent.  \n",
    "   - `Age`: Generational category (e.g., Gen Z, Gen X).  \n",
    "   - `Gender`: Gender of the respondent.  \n",
    "   - `Education`: Level of education achieved (e.g., Master’s Degree, Graduate).  \n",
    "   - `Living_Region`: Region where the respondent resides (e.g., Metropolitan, Rural).  \n",
    "\n",
    "2. **Consumer Behavior**:  \n",
    "   - `Online_Consumer`: Indicates whether the individual shops online.  \n",
    "   - `Online_Service_Preference`: Preference for using online retail services.  \n",
    "\n",
    "3. **Payment Preferences**:  \n",
    "   - `Payment_Method_Credit/Debit`, `Payment_Method_COD`, `Payment_Method_Ewallet`: Details the payment methods commonly used.  \n",
    "\n",
    "4. **AI Adoption and Usage**:  \n",
    "   - `AI_Endorsement`: Endorsement of AI technologies in retail.  \n",
    "   - `AI_Privacy_No_Trust`: Privacy concerns related to AI.  \n",
    "   - `AI_Enhance_Experience`: Whether AI enhances the shopping experience.  \n",
    "   - `AI_Satisfaction`: Customer satisfaction with AI features.  \n",
    "   - `AI_Tools_Used_Chatbots`, `AI_Tools_Used_Virtual_Assistant`, `AI_Tools_Used_Voice&Photo_Search`: Usage of specific AI tools in retail.\n",
    "\n",
    "5. **Product Categories**:  \n",
    "   - Tracks preferences across product categories, including:  \n",
    "     - `Product_Category_Appliances`  \n",
    "     - `Product_Category_Electronics`  \n",
    "     - `Product_Category_Groceries`  \n",
    "     - `Product_Category_Personal_Care`  \n",
    "     - `Product_Category_Clothing`  "
   ]
  },
  {
   "cell_type": "code",
   "execution_count": 1,
   "id": "8980bfdf-443d-4811-8d30-383c6db6ebd9",
   "metadata": {},
   "outputs": [],
   "source": [
    "import mysql.connector"
   ]
  },
  {
   "cell_type": "code",
   "execution_count": 41,
   "id": "ec97eb03-b20b-4b91-add5-de1ccd79bda8",
   "metadata": {},
   "outputs": [
    {
     "name": "stdout",
     "output_type": "stream",
     "text": [
      "  Country Online_Consumer    Age Annual_Salary  Gender            Education  \\\n",
      "0   INDIA             YES  Gen X   Medium High  Female      Masters Degree   \n",
      "1   INDIA             YES  Gen Z           Low    Male  University Graduate   \n",
      "2   INDIA             YES  Gen X   Medium High    Male  University Graduate   \n",
      "3   INDIA             YES  Gen X          High    Male  University Graduate   \n",
      "4   INDIA             YES  Gen Z           Low    Male  University Graduate   \n",
      "\n",
      "  Payment_Method_Credit/Debit Living_Region Online_Service_Preference  \\\n",
      "0                          NO  Metropolitan                        NO   \n",
      "1                         YES  Metropolitan                        NO   \n",
      "2                         YES   Rural Areas                       YES   \n",
      "3                         YES   Rural Areas                       YES   \n",
      "4                          NO   Rural Areas                       YES   \n",
      "\n",
      "  AI_Endorsement AI_Privacy_No_Trust  AI_Enhance_Experience AI_Satisfication  \\\n",
      "0            YES                  YES                   YES        Satisfied   \n",
      "1            YES                  YES                   YES        Satisfied   \n",
      "2            YES                  YES                   YES        Satisfied   \n",
      "3            YES                  YES                   YES        Satisfied   \n",
      "4            YES                  YES                   YES        Satisfied   \n",
      "\n",
      "  AI_Tools_Used _Chatbots AI_Tools_Used_Virtual_Assistant  \\\n",
      "0                     YES                             YES   \n",
      "1                     YES                             YES   \n",
      "2                      NO                             YES   \n",
      "3                      NO                              NO   \n",
      "4                     YES                              NO   \n",
      "\n",
      "  AI_Tools_Used_Voice&Photo_Search Payment_Method_COD Payment_Method_Ewallet  \\\n",
      "0                              YES                YES                     NO   \n",
      "1                              YES                YES                    YES   \n",
      "2                               NO                YES                    YES   \n",
      "3                               NO                YES                    YES   \n",
      "4                               NO                YES                    YES   \n",
      "\n",
      "  Product_Category_Appliances Product_Category_Electronics  \\\n",
      "0                         YES                          YES   \n",
      "1                         YES                          YES   \n",
      "2                         YES                          YES   \n",
      "3                         YES                          YES   \n",
      "4                         YES                           NO   \n",
      "\n",
      "  Product_Category_Groceries Product_Category_Personal_Care  \\\n",
      "0                        YES                            YES   \n",
      "1                         NO                             NO   \n",
      "2                        YES                             NO   \n",
      "3                        YES                             NO   \n",
      "4                        YES                             NO   \n",
      "\n",
      "  Product_Category_Clothing  \n",
      "0                       YES  \n",
      "1                        NO  \n",
      "2                        NO  \n",
      "3                       YES  \n",
      "4                       YES  \n"
     ]
    }
   ],
   "source": [
    "import pandas as pd\n",
    "import numpy as np\n",
    "import requests\n",
    "import mysql.connector\n",
    "import matplotlib.pyplot as plt\n",
    "data = pd.read_csv(r\"C:\\Users\\ADMIN\\Downloads\\AI in Retail Dataset.csv\", encoding=\"latin1\")\n",
    "print(data.head())"
   ]
  },
  {
   "cell_type": "code",
   "execution_count": 8,
   "id": "10d60468-765c-4ab7-9927-5a97bb1e9758",
   "metadata": {},
   "outputs": [
    {
     "data": {
      "text/plain": [
       "(656, 23)"
      ]
     },
     "execution_count": 8,
     "metadata": {},
     "output_type": "execute_result"
    }
   ],
   "source": [
    "data.shape"
   ]
  },
  {
   "cell_type": "code",
   "execution_count": 23,
   "id": "8977546f-23de-4abf-a29b-1923cca42b2f",
   "metadata": {},
   "outputs": [
    {
     "data": {
      "text/html": [
       "<div>\n",
       "<style scoped>\n",
       "    .dataframe tbody tr th:only-of-type {\n",
       "        vertical-align: middle;\n",
       "    }\n",
       "\n",
       "    .dataframe tbody tr th {\n",
       "        vertical-align: top;\n",
       "    }\n",
       "\n",
       "    .dataframe thead th {\n",
       "        text-align: right;\n",
       "    }\n",
       "</style>\n",
       "<table border=\"1\" class=\"dataframe\">\n",
       "  <thead>\n",
       "    <tr style=\"text-align: right;\">\n",
       "      <th></th>\n",
       "      <th>Country</th>\n",
       "      <th>Online_Consumer</th>\n",
       "      <th>Age</th>\n",
       "      <th>Annual_Salary</th>\n",
       "      <th>Gender</th>\n",
       "      <th>Education</th>\n",
       "      <th>Payment_Method_Credit/Debit</th>\n",
       "      <th>Living_Region</th>\n",
       "      <th>Online_Service_Preference</th>\n",
       "      <th>AI_Endorsement</th>\n",
       "      <th>...</th>\n",
       "      <th>AI_Tools_Used _Chatbots</th>\n",
       "      <th>AI_Tools_Used_Virtual_Assistant</th>\n",
       "      <th>AI_Tools_Used_Voice&amp;Photo_Search</th>\n",
       "      <th>Payment_Method_COD</th>\n",
       "      <th>Payment_Method_Ewallet</th>\n",
       "      <th>Product_Category_Appliances</th>\n",
       "      <th>Product_Category_Electronics</th>\n",
       "      <th>Product_Category_Groceries</th>\n",
       "      <th>Product_Category_Personal_Care</th>\n",
       "      <th>Product_Category_Clothing</th>\n",
       "    </tr>\n",
       "  </thead>\n",
       "  <tbody>\n",
       "    <tr>\n",
       "      <th>count</th>\n",
       "      <td>656</td>\n",
       "      <td>656</td>\n",
       "      <td>656</td>\n",
       "      <td>656</td>\n",
       "      <td>656</td>\n",
       "      <td>656</td>\n",
       "      <td>656</td>\n",
       "      <td>656</td>\n",
       "      <td>656</td>\n",
       "      <td>656</td>\n",
       "      <td>...</td>\n",
       "      <td>656</td>\n",
       "      <td>656</td>\n",
       "      <td>656</td>\n",
       "      <td>656</td>\n",
       "      <td>656</td>\n",
       "      <td>656</td>\n",
       "      <td>656</td>\n",
       "      <td>656</td>\n",
       "      <td>656</td>\n",
       "      <td>656</td>\n",
       "    </tr>\n",
       "    <tr>\n",
       "      <th>unique</th>\n",
       "      <td>3</td>\n",
       "      <td>2</td>\n",
       "      <td>4</td>\n",
       "      <td>4</td>\n",
       "      <td>3</td>\n",
       "      <td>4</td>\n",
       "      <td>2</td>\n",
       "      <td>3</td>\n",
       "      <td>2</td>\n",
       "      <td>2</td>\n",
       "      <td>...</td>\n",
       "      <td>2</td>\n",
       "      <td>2</td>\n",
       "      <td>2</td>\n",
       "      <td>2</td>\n",
       "      <td>2</td>\n",
       "      <td>2</td>\n",
       "      <td>2</td>\n",
       "      <td>2</td>\n",
       "      <td>2</td>\n",
       "      <td>2</td>\n",
       "    </tr>\n",
       "    <tr>\n",
       "      <th>top</th>\n",
       "      <td>CHINA</td>\n",
       "      <td>YES</td>\n",
       "      <td>Millennials</td>\n",
       "      <td>High</td>\n",
       "      <td>Female</td>\n",
       "      <td>University Graduate</td>\n",
       "      <td>YES</td>\n",
       "      <td>Metropolitan</td>\n",
       "      <td>YES</td>\n",
       "      <td>YES</td>\n",
       "      <td>...</td>\n",
       "      <td>NO</td>\n",
       "      <td>NO</td>\n",
       "      <td>NO</td>\n",
       "      <td>NO</td>\n",
       "      <td>NO</td>\n",
       "      <td>YES</td>\n",
       "      <td>YES</td>\n",
       "      <td>NO</td>\n",
       "      <td>YES</td>\n",
       "      <td>YES</td>\n",
       "    </tr>\n",
       "    <tr>\n",
       "      <th>freq</th>\n",
       "      <td>252</td>\n",
       "      <td>635</td>\n",
       "      <td>366</td>\n",
       "      <td>230</td>\n",
       "      <td>361</td>\n",
       "      <td>347</td>\n",
       "      <td>425</td>\n",
       "      <td>438</td>\n",
       "      <td>485</td>\n",
       "      <td>554</td>\n",
       "      <td>...</td>\n",
       "      <td>359</td>\n",
       "      <td>359</td>\n",
       "      <td>406</td>\n",
       "      <td>462</td>\n",
       "      <td>407</td>\n",
       "      <td>329</td>\n",
       "      <td>432</td>\n",
       "      <td>374</td>\n",
       "      <td>342</td>\n",
       "      <td>480</td>\n",
       "    </tr>\n",
       "  </tbody>\n",
       "</table>\n",
       "<p>4 rows × 23 columns</p>\n",
       "</div>"
      ],
      "text/plain": [
       "       Country Online_Consumer          Age Annual_Salary  Gender  \\\n",
       "count      656             656          656           656     656   \n",
       "unique       3               2            4             4       3   \n",
       "top      CHINA             YES  Millennials          High  Female   \n",
       "freq       252             635          366           230     361   \n",
       "\n",
       "                  Education Payment_Method_Credit/Debit Living_Region  \\\n",
       "count                   656                         656           656   \n",
       "unique                    4                           2             3   \n",
       "top     University Graduate                         YES  Metropolitan   \n",
       "freq                    347                         425           438   \n",
       "\n",
       "       Online_Service_Preference AI_Endorsement  ... AI_Tools_Used _Chatbots  \\\n",
       "count                        656            656  ...                     656   \n",
       "unique                         2              2  ...                       2   \n",
       "top                          YES            YES  ...                      NO   \n",
       "freq                         485            554  ...                     359   \n",
       "\n",
       "       AI_Tools_Used_Virtual_Assistant AI_Tools_Used_Voice&Photo_Search  \\\n",
       "count                              656                              656   \n",
       "unique                               2                                2   \n",
       "top                                 NO                               NO   \n",
       "freq                               359                              406   \n",
       "\n",
       "       Payment_Method_COD Payment_Method_Ewallet Product_Category_Appliances  \\\n",
       "count                 656                    656                         656   \n",
       "unique                  2                      2                           2   \n",
       "top                    NO                     NO                         YES   \n",
       "freq                  462                    407                         329   \n",
       "\n",
       "       Product_Category_Electronics Product_Category_Groceries  \\\n",
       "count                           656                        656   \n",
       "unique                            2                          2   \n",
       "top                             YES                         NO   \n",
       "freq                            432                        374   \n",
       "\n",
       "       Product_Category_Personal_Care Product_Category_Clothing  \n",
       "count                             656                       656  \n",
       "unique                              2                         2  \n",
       "top                               YES                       YES  \n",
       "freq                              342                       480  \n",
       "\n",
       "[4 rows x 23 columns]"
      ]
     },
     "execution_count": 23,
     "metadata": {},
     "output_type": "execute_result"
    }
   ],
   "source": [
    "data.describe()"
   ]
  },
  {
   "cell_type": "code",
   "execution_count": 10,
   "id": "72682778-2f40-4d90-9a15-268ed7f79b9a",
   "metadata": {},
   "outputs": [
    {
     "data": {
      "text/plain": [
       "Country                             0\n",
       "Online_Consumer                     0\n",
       "Age                                 0\n",
       "Annual_Salary                       0\n",
       "Gender                              0\n",
       "Education                           0\n",
       "Payment_Method_Credit/Debit         0\n",
       "Living_Region                       0\n",
       "Online_Service_Preference           0\n",
       "AI_Endorsement                      0\n",
       "AI_Privacy_No_Trust                 0\n",
       "AI_Enhance_Experience               0\n",
       "AI_Satisfication                    0\n",
       "AI_Tools_Used _Chatbots             0\n",
       "AI_Tools_Used_Virtual_Assistant     0\n",
       "AI_Tools_Used_Voice&Photo_Search    0\n",
       "Payment_Method_COD                  0\n",
       "Payment_Method_Ewallet              0\n",
       "Product_Category_Appliances         0\n",
       "Product_Category_Electronics        0\n",
       "Product_Category_Groceries          0\n",
       "Product_Category_Personal_Care      0\n",
       "Product_Category_Clothing           0\n",
       "dtype: int64"
      ]
     },
     "execution_count": 10,
     "metadata": {},
     "output_type": "execute_result"
    }
   ],
   "source": [
    "data.isnull().sum()"
   ]
  },
  {
   "cell_type": "code",
   "execution_count": 3,
   "id": "b861ea68-8b9a-412e-96b2-c8053ac0a00f",
   "metadata": {},
   "outputs": [],
   "source": [
    "conn=mysql.connector.connect(\n",
    "    host='localhost',\n",
    "    user='root',\n",
    "    password='2040',\n",
    "    database='data'\n",
    ")"
   ]
  },
  {
   "cell_type": "code",
   "execution_count": 4,
   "id": "82869ee8-61ca-42e2-b097-dcb8ac36cfc1",
   "metadata": {},
   "outputs": [],
   "source": [
    "cursor=conn.cursor()"
   ]
  },
  {
   "cell_type": "code",
   "execution_count": 5,
   "id": "5201fa87-16c8-422b-a70b-9d30d75228a6",
   "metadata": {},
   "outputs": [],
   "source": [
    "#Table is created"
   ]
  },
  {
   "cell_type": "code",
   "execution_count": 11,
   "id": "23a135bd-138d-444e-af67-d4c07d9cc40f",
   "metadata": {},
   "outputs": [],
   "source": [
    "\n",
    "\n",
    "table_query=\"\"\"CREATE TABLE AI_Retail_Data (\n",
    "    Country VARCHAR(50),\n",
    "    Online_Consumer VARCHAR(3),\n",
    "    Age VARCHAR(10),\n",
    "    Annual_Salary VARCHAR(50),\n",
    "    Gender VARCHAR(10),\n",
    "    Education VARCHAR(100),\n",
    "    Payment_Method_Credit_Debit VARCHAR(3),\n",
    "    Living_Region VARCHAR(50),\n",
    "    Online_Service_Preference VARCHAR(3),\n",
    "    AI_Endorsement VARCHAR(3),\n",
    "    AI_Privacy_No_Trust VARCHAR(3),\n",
    "    AI_Enhance_Experience VARCHAR(3),\n",
    "    AI_Satisfaction VARCHAR(3),\n",
    "    AI_Tools_Used_Chatbots VARCHAR(3),\n",
    "    AI_Tools_Used_Virtual_Assistant VARCHAR(3),\n",
    "    AI_Tools_Used_Voice_Photo_Search VARCHAR(3),\n",
    "    Payment_Method_COD VARCHAR(3),\n",
    "    Payment_Method_Ewallet VARCHAR(3),\n",
    "    Product_Category_Appliances VARCHAR(3),\n",
    "    Product_Category_Electronics VARCHAR(3),\n",
    "    Product_Category_Groceries VARCHAR(3),\n",
    "    Product_Category_Personal_Care VARCHAR(3),\n",
    "    Product_Category_Clothing VARCHAR(3))\"\"\"\n",
    "table_create=cursor.execute(table_query)"
   ]
  },
  {
   "cell_type": "code",
   "execution_count": null,
   "id": "98967c21-101a-4b58-bec9-d38d82158720",
   "metadata": {},
   "outputs": [],
   "source": [
    "insert_query=\"\"\" INSERT INTO data.AI_Retail_Data (\n",
    "    Country,\n",
    "    Online_Consumer,\n",
    "    Age,\n",
    "    Annual_Salary,\n",
    "    Gender,\n",
    "    Education,\n",
    "    Payment_Method_Credit_Debit,\n",
    "    Living_Region,\n",
    "    Online_Service_Preference,\n",
    "    AI_Endorsement,\n",
    "    AI_Privacy_No_Trust,\n",
    "    AI_Enhance_Experience,\n",
    "    AI_Satisfaction,\n",
    "    AI_Tools_Used_Chatbots,\n",
    "    AI_Tools_Used_Virtual_Assistant,\n",
    "    AI_Tools_Used_Voice_Photo_Search,\n",
    "    Payment_Method_COD,\n",
    "    Payment_Method_Ewallet,\n",
    "    Product_Category_Appliances,\n",
    "    Product_Category_Electronics,\n",
    "    Product_Category_Groceries,\n",
    "    Product_Category_Personal_Care,\n",
    "    Product_Category_Clothing\n",
    ")\n",
    "VALUES\n",
    "    (%s,%s,%s,%s,%s,%s,%s,%s,%s,%s,%s,%s,%s,%s,%s,%s,%s,%s,%s,%s,%s,%s,%s)\n",
    "\"\"\""
   ]
  },
  {
   "cell_type": "code",
   "execution_count": null,
   "id": "ea17e328-5b70-4536-8232-8c7864367a02",
   "metadata": {},
   "outputs": [],
   "source": [
    "for _,row in data.iterrows():\n",
    "    insert_data=cursor.execute(insert_query,(\n",
    "    row['Country'],\n",
    "    row['Online_Consumer'],\n",
    "    row['Age'],\n",
    "    row['Annual_Salary'],\n",
    "    row['Gender'],\n",
    "    row['Education'],\n",
    "    row['Payment_Method_Credit/Debit'],\n",
    "    row['Living_Region'],\n",
    "    row['Online_Service_Preference'],\n",
    "    row['AI_Endorsement'],\n",
    "    row['AI_Privacy_No_Trust '],\n",
    "    row['AI_Enhance_Experience'],\n",
    "    row['AI_Satisfication'],\n",
    "    row['AI_Tools_Used _Chatbots'],\n",
    "    row['AI_Tools_Used_Virtual_Assistant'],\n",
    "    row['AI_Tools_Used_Voice&Photo_Search'],\n",
    "    row['Payment_Method_COD'],\n",
    "    row['Payment_Method_Ewallet'],\n",
    "    row['Product_Category_Appliances'],\n",
    "    row['Product_Category_Electronics'],\n",
    "    row['Product_Category_Groceries'],\n",
    "    row['Product_Category_Personal_Care'],\n",
    "    row['Product_Category_Clothing']\n",
    "    ))"
   ]
  },
  {
   "cell_type": "code",
   "execution_count": 30,
   "id": "29beb0e3-81e4-4dac-b2fc-45120299e5ec",
   "metadata": {},
   "outputs": [
    {
     "data": {
      "text/plain": [
       "[('Country', 253, None, None, None, None, 1, 0, 255),\n",
       " ('Online_Consumer', 253, None, None, None, None, 1, 0, 255),\n",
       " ('Age', 253, None, None, None, None, 1, 0, 255),\n",
       " ('Annual_Salary', 253, None, None, None, None, 1, 0, 255),\n",
       " ('Gender', 253, None, None, None, None, 1, 0, 255),\n",
       " ('Education', 253, None, None, None, None, 1, 0, 255),\n",
       " ('Payment_Method_Credit_Debit', 253, None, None, None, None, 1, 0, 255),\n",
       " ('Living_Region', 253, None, None, None, None, 1, 0, 255),\n",
       " ('Online_Service_Preference', 253, None, None, None, None, 1, 0, 255),\n",
       " ('AI_Endorsement', 253, None, None, None, None, 1, 0, 255),\n",
       " ('AI_Privacy_No_Trust', 253, None, None, None, None, 1, 0, 255),\n",
       " ('AI_Enhance_Experience', 253, None, None, None, None, 1, 0, 255),\n",
       " ('AI_Satisfaction', 253, None, None, None, None, 1, 0, 255),\n",
       " ('AI_Tools_Used_Chatbots', 253, None, None, None, None, 1, 0, 255),\n",
       " ('AI_Tools_Used_Virtual_Assistant', 253, None, None, None, None, 1, 0, 255),\n",
       " ('AI_Tools_Used_Voice_Photo_Search', 253, None, None, None, None, 1, 0, 255),\n",
       " ('Payment_Method_COD', 253, None, None, None, None, 1, 0, 255),\n",
       " ('Payment_Method_Ewallet', 253, None, None, None, None, 1, 0, 255),\n",
       " ('Product_Category_Appliances', 253, None, None, None, None, 1, 0, 255),\n",
       " ('Product_Category_Electronics', 253, None, None, None, None, 1, 0, 255),\n",
       " ('Product_Category_Groceries', 253, None, None, None, None, 1, 0, 255),\n",
       " ('Product_Category_Personal_Care', 253, None, None, None, None, 1, 0, 255),\n",
       " ('Product_Category_Clothing', 253, None, None, None, None, 1, 0, 255)]"
      ]
     },
     "execution_count": 30,
     "metadata": {},
     "output_type": "execute_result"
    }
   ],
   "source": [
    "cursor.description\n",
    "#contains the description about the table columns"
   ]
  },
  {
   "cell_type": "code",
   "execution_count": 38,
   "id": "71506eed-c44d-4d58-a5f7-ebd6e4fc5ebe",
   "metadata": {},
   "outputs": [
    {
     "data": {
      "text/html": [
       "<div>\n",
       "<style scoped>\n",
       "    .dataframe tbody tr th:only-of-type {\n",
       "        vertical-align: middle;\n",
       "    }\n",
       "\n",
       "    .dataframe tbody tr th {\n",
       "        vertical-align: top;\n",
       "    }\n",
       "\n",
       "    .dataframe thead th {\n",
       "        text-align: right;\n",
       "    }\n",
       "</style>\n",
       "<table border=\"1\" class=\"dataframe\">\n",
       "  <thead>\n",
       "    <tr style=\"text-align: right;\">\n",
       "      <th></th>\n",
       "      <th>Country</th>\n",
       "      <th>Online_Consumer</th>\n",
       "      <th>Age</th>\n",
       "      <th>Annual_Salary</th>\n",
       "      <th>Gender</th>\n",
       "      <th>Education</th>\n",
       "      <th>Payment_Method_Credit_Debit</th>\n",
       "      <th>Living_Region</th>\n",
       "      <th>Online_Service_Preference</th>\n",
       "      <th>AI_Endorsement</th>\n",
       "      <th>AI_Privacy_No_Trust</th>\n",
       "      <th>AI_Enhance_Experience</th>\n",
       "      <th>AI_Satisfaction</th>\n",
       "      <th>AI_Tools_Used_Chatbots</th>\n",
       "      <th>AI_Tools_Used_Virtual_Assistant</th>\n",
       "      <th>AI_Tools_Used_Voice_Photo_Search</th>\n",
       "      <th>Payment_Method_COD</th>\n",
       "      <th>Payment_Method_Ewallet</th>\n",
       "      <th>Product_Category_Appliances</th>\n",
       "      <th>Product_Category_Electronics</th>\n",
       "      <th>Product_Category_Groceries</th>\n",
       "      <th>Product_Category_Personal_Care</th>\n",
       "      <th>Product_Category_Clothing</th>\n",
       "    </tr>\n",
       "  </thead>\n",
       "  <tbody>\n",
       "    <tr>\n",
       "      <th>0</th>\n",
       "      <td>INDIA</td>\n",
       "      <td>YES</td>\n",
       "      <td>Gen X</td>\n",
       "      <td>Medium High</td>\n",
       "      <td>Female</td>\n",
       "      <td>Masters Degree</td>\n",
       "      <td>NO</td>\n",
       "      <td>Metropolitan</td>\n",
       "      <td>NO</td>\n",
       "      <td>YES</td>\n",
       "      <td>YES</td>\n",
       "      <td>YES</td>\n",
       "      <td>Satisfied</td>\n",
       "      <td>YES</td>\n",
       "      <td>YES</td>\n",
       "      <td>YES</td>\n",
       "      <td>YES</td>\n",
       "      <td>NO</td>\n",
       "      <td>YES</td>\n",
       "      <td>YES</td>\n",
       "      <td>YES</td>\n",
       "      <td>YES</td>\n",
       "      <td>YES</td>\n",
       "    </tr>\n",
       "    <tr>\n",
       "      <th>1</th>\n",
       "      <td>INDIA</td>\n",
       "      <td>YES</td>\n",
       "      <td>Gen Z</td>\n",
       "      <td>Low</td>\n",
       "      <td>Male</td>\n",
       "      <td>University Graduate</td>\n",
       "      <td>YES</td>\n",
       "      <td>Metropolitan</td>\n",
       "      <td>NO</td>\n",
       "      <td>YES</td>\n",
       "      <td>YES</td>\n",
       "      <td>YES</td>\n",
       "      <td>Satisfied</td>\n",
       "      <td>YES</td>\n",
       "      <td>YES</td>\n",
       "      <td>YES</td>\n",
       "      <td>YES</td>\n",
       "      <td>YES</td>\n",
       "      <td>YES</td>\n",
       "      <td>YES</td>\n",
       "      <td>NO</td>\n",
       "      <td>NO</td>\n",
       "      <td>NO</td>\n",
       "    </tr>\n",
       "    <tr>\n",
       "      <th>2</th>\n",
       "      <td>INDIA</td>\n",
       "      <td>YES</td>\n",
       "      <td>Gen X</td>\n",
       "      <td>Medium High</td>\n",
       "      <td>Male</td>\n",
       "      <td>University Graduate</td>\n",
       "      <td>YES</td>\n",
       "      <td>Rural Areas</td>\n",
       "      <td>YES</td>\n",
       "      <td>YES</td>\n",
       "      <td>YES</td>\n",
       "      <td>YES</td>\n",
       "      <td>Satisfied</td>\n",
       "      <td>NO</td>\n",
       "      <td>YES</td>\n",
       "      <td>NO</td>\n",
       "      <td>YES</td>\n",
       "      <td>YES</td>\n",
       "      <td>YES</td>\n",
       "      <td>YES</td>\n",
       "      <td>YES</td>\n",
       "      <td>NO</td>\n",
       "      <td>NO</td>\n",
       "    </tr>\n",
       "    <tr>\n",
       "      <th>3</th>\n",
       "      <td>INDIA</td>\n",
       "      <td>YES</td>\n",
       "      <td>Gen X</td>\n",
       "      <td>High</td>\n",
       "      <td>Male</td>\n",
       "      <td>University Graduate</td>\n",
       "      <td>YES</td>\n",
       "      <td>Rural Areas</td>\n",
       "      <td>YES</td>\n",
       "      <td>YES</td>\n",
       "      <td>YES</td>\n",
       "      <td>YES</td>\n",
       "      <td>Satisfied</td>\n",
       "      <td>NO</td>\n",
       "      <td>NO</td>\n",
       "      <td>NO</td>\n",
       "      <td>YES</td>\n",
       "      <td>YES</td>\n",
       "      <td>YES</td>\n",
       "      <td>YES</td>\n",
       "      <td>YES</td>\n",
       "      <td>NO</td>\n",
       "      <td>YES</td>\n",
       "    </tr>\n",
       "    <tr>\n",
       "      <th>4</th>\n",
       "      <td>INDIA</td>\n",
       "      <td>YES</td>\n",
       "      <td>Gen Z</td>\n",
       "      <td>Low</td>\n",
       "      <td>Male</td>\n",
       "      <td>University Graduate</td>\n",
       "      <td>NO</td>\n",
       "      <td>Rural Areas</td>\n",
       "      <td>YES</td>\n",
       "      <td>YES</td>\n",
       "      <td>YES</td>\n",
       "      <td>YES</td>\n",
       "      <td>Satisfied</td>\n",
       "      <td>YES</td>\n",
       "      <td>NO</td>\n",
       "      <td>NO</td>\n",
       "      <td>YES</td>\n",
       "      <td>YES</td>\n",
       "      <td>YES</td>\n",
       "      <td>NO</td>\n",
       "      <td>YES</td>\n",
       "      <td>NO</td>\n",
       "      <td>YES</td>\n",
       "    </tr>\n",
       "  </tbody>\n",
       "</table>\n",
       "</div>"
      ],
      "text/plain": [
       "  Country Online_Consumer    Age Annual_Salary  Gender            Education  \\\n",
       "0   INDIA             YES  Gen X   Medium High  Female      Masters Degree   \n",
       "1   INDIA             YES  Gen Z           Low    Male  University Graduate   \n",
       "2   INDIA             YES  Gen X   Medium High    Male  University Graduate   \n",
       "3   INDIA             YES  Gen X          High    Male  University Graduate   \n",
       "4   INDIA             YES  Gen Z           Low    Male  University Graduate   \n",
       "\n",
       "  Payment_Method_Credit_Debit Living_Region Online_Service_Preference  \\\n",
       "0                          NO  Metropolitan                        NO   \n",
       "1                         YES  Metropolitan                        NO   \n",
       "2                         YES   Rural Areas                       YES   \n",
       "3                         YES   Rural Areas                       YES   \n",
       "4                          NO   Rural Areas                       YES   \n",
       "\n",
       "  AI_Endorsement AI_Privacy_No_Trust AI_Enhance_Experience AI_Satisfaction  \\\n",
       "0            YES                 YES                   YES       Satisfied   \n",
       "1            YES                 YES                   YES       Satisfied   \n",
       "2            YES                 YES                   YES       Satisfied   \n",
       "3            YES                 YES                   YES       Satisfied   \n",
       "4            YES                 YES                   YES       Satisfied   \n",
       "\n",
       "  AI_Tools_Used_Chatbots AI_Tools_Used_Virtual_Assistant  \\\n",
       "0                    YES                             YES   \n",
       "1                    YES                             YES   \n",
       "2                     NO                             YES   \n",
       "3                     NO                              NO   \n",
       "4                    YES                              NO   \n",
       "\n",
       "  AI_Tools_Used_Voice_Photo_Search Payment_Method_COD Payment_Method_Ewallet  \\\n",
       "0                              YES                YES                     NO   \n",
       "1                              YES                YES                    YES   \n",
       "2                               NO                YES                    YES   \n",
       "3                               NO                YES                    YES   \n",
       "4                               NO                YES                    YES   \n",
       "\n",
       "  Product_Category_Appliances Product_Category_Electronics  \\\n",
       "0                         YES                          YES   \n",
       "1                         YES                          YES   \n",
       "2                         YES                          YES   \n",
       "3                         YES                          YES   \n",
       "4                         YES                           NO   \n",
       "\n",
       "  Product_Category_Groceries Product_Category_Personal_Care  \\\n",
       "0                        YES                            YES   \n",
       "1                         NO                             NO   \n",
       "2                        YES                             NO   \n",
       "3                        YES                             NO   \n",
       "4                        YES                             NO   \n",
       "\n",
       "  Product_Category_Clothing  \n",
       "0                       YES  \n",
       "1                        NO  \n",
       "2                        NO  \n",
       "3                       YES  \n",
       "4                       YES  "
      ]
     },
     "execution_count": 38,
     "metadata": {},
     "output_type": "execute_result"
    }
   ],
   "source": [
    "#Etract the table from MYSQL server \n",
    "table=\"SELECT * FROM data.ai_retail_data;\";\n",
    "cursor.execute(table)\n",
    "result=cursor.fetchall()\n",
    "col_names=[desc[0] for desc in cursor.description]\n",
    "df=pd.DataFrame(result,columns=col_names)\n",
    "pd.set_option('display.max_columns',23)\n",
    "df.head()"
   ]
  },
  {
   "cell_type": "markdown",
   "id": "e3959614-ff76-4a9e-b484-63f246d57774",
   "metadata": {},
   "source": [
    "#### What type Age group will use mostly use AI Adoption in day-to-day life\n",
    "**Millennials (Gen Y):** Born between 1981 and 1996, this tech-savvy generation is known for growing up during the rise of the internet and social media, valuing convenience and digital experiences.\n",
    "\n",
    "**Gen X**: Born between 1965 and 1980, this generation is characterized by independence, adaptability, and a balanced mix of traditional and digital habits.\n",
    "\n",
    "**Gen Z**: Born between 1997 and 2012, this digital-native generation is highly connected, prioritizes personalization, and is quick to adopt emerging technologies.\n",
    "\n",
    "**Baby Boomers**: Born between 1946 and 1964, this post-WWII generation is known for their strong work ethic and loyalty, often adapting to technology later in life."
   ]
  },
  {
   "cell_type": "code",
   "execution_count": 59,
   "id": "313d4bd6-d43e-46c4-9a5d-bf2e7b4ad286",
   "metadata": {},
   "outputs": [
    {
     "data": {
      "text/plain": [
       "Age\n",
       "Millennials     366\n",
       "Gen X           139\n",
       "Gen Z           127\n",
       "Baby Boomers     24\n",
       "Name: count, dtype: int64"
      ]
     },
     "execution_count": 59,
     "metadata": {},
     "output_type": "execute_result"
    }
   ],
   "source": [
    "age=df[\"Age\"].value_counts()\n",
    "age"
   ]
  },
  {
   "cell_type": "code",
   "execution_count": 82,
   "id": "27ef5273-d9c2-4d9e-94f3-8b2304196288",
   "metadata": {},
   "outputs": [
    {
     "data": {
      "text/plain": [
       "Text(0, 0.5, 'People')"
      ]
     },
     "execution_count": 82,
     "metadata": {},
     "output_type": "execute_result"
    },
    {
     "data": {
      "image/png": "[encoded data removed]",
      "text/plain": [
       "<Figure size 640x480 with 1 Axes>"
      ]
     },
     "metadata": {},
     "output_type": "display_data"
    }
   ],
   "source": [
    "plt.bar(age.index,age.values,color='c',width=0.3)\n",
    "plt.title(\"Age group analysis in Ratail industry\",fontsize=20,color='green')\n",
    "plt.xlabel(\"Age\",fontsize=19,color='c')\n",
    "plt.ylabel(\"People\",fontsize=19,color='c')"
   ]
  },
  {
   "cell_type": "code",
   "execution_count": 145,
   "id": "ec4da2be-a66b-4b54-a4ca-787169e115c2",
   "metadata": {},
   "outputs": [
    {
     "data": {
      "text/plain": [
       "Country\n",
       "CHINA     252\n",
       "CANADA    231\n",
       "INDIA     173\n",
       "Name: count, dtype: int64"
      ]
     },
     "execution_count": 145,
     "metadata": {},
     "output_type": "execute_result"
    }
   ],
   "source": [
    "country=df['Country'].value_counts()\n",
    "country"
   ]
  },
  {
   "cell_type": "code",
   "execution_count": 144,
   "id": "b57ac548-737b-461c-b09f-409bb03b1d21",
   "metadata": {},
   "outputs": [
    {
     "data": {
      "text/plain": [
       "Living_Region\n",
       "Metropolitan      438\n",
       "Suburban Areas    145\n",
       "Rural Areas        73\n",
       "Name: count, dtype: int64"
      ]
     },
     "execution_count": 144,
     "metadata": {},
     "output_type": "execute_result"
    }
   ],
   "source": [
    "region=df['Living_Region'].value_counts()\n",
    "country"
   ]
  },
  {
   "cell_type": "code",
   "execution_count": 140,
   "id": "5e64ea11-9191-482e-bc2c-33f524a60517",
   "metadata": {},
   "outputs": [
    {
     "data": {
      "text/html": [
       "<div>\n",
       "<style scoped>\n",
       "    .dataframe tbody tr th:only-of-type {\n",
       "        vertical-align: middle;\n",
       "    }\n",
       "\n",
       "    .dataframe tbody tr th {\n",
       "        vertical-align: top;\n",
       "    }\n",
       "\n",
       "    .dataframe thead th {\n",
       "        text-align: right;\n",
       "    }\n",
       "</style>\n",
       "<table border=\"1\" class=\"dataframe\">\n",
       "  <thead>\n",
       "    <tr style=\"text-align: right;\">\n",
       "      <th></th>\n",
       "      <th>Country</th>\n",
       "      <th>Living_Region</th>\n",
       "    </tr>\n",
       "  </thead>\n",
       "  <tbody>\n",
       "    <tr>\n",
       "      <th>0</th>\n",
       "      <td>INDIA</td>\n",
       "      <td>Metropolitan</td>\n",
       "    </tr>\n",
       "    <tr>\n",
       "      <th>1</th>\n",
       "      <td>INDIA</td>\n",
       "      <td>Metropolitan</td>\n",
       "    </tr>\n",
       "    <tr>\n",
       "      <th>2</th>\n",
       "      <td>INDIA</td>\n",
       "      <td>Rural Areas</td>\n",
       "    </tr>\n",
       "    <tr>\n",
       "      <th>3</th>\n",
       "      <td>INDIA</td>\n",
       "      <td>Rural Areas</td>\n",
       "    </tr>\n",
       "    <tr>\n",
       "      <th>4</th>\n",
       "      <td>INDIA</td>\n",
       "      <td>Rural Areas</td>\n",
       "    </tr>\n",
       "    <tr>\n",
       "      <th>...</th>\n",
       "      <td>...</td>\n",
       "      <td>...</td>\n",
       "    </tr>\n",
       "    <tr>\n",
       "      <th>651</th>\n",
       "      <td>CANADA</td>\n",
       "      <td>Suburban Areas</td>\n",
       "    </tr>\n",
       "    <tr>\n",
       "      <th>652</th>\n",
       "      <td>CANADA</td>\n",
       "      <td>Metropolitan</td>\n",
       "    </tr>\n",
       "    <tr>\n",
       "      <th>653</th>\n",
       "      <td>CANADA</td>\n",
       "      <td>Metropolitan</td>\n",
       "    </tr>\n",
       "    <tr>\n",
       "      <th>654</th>\n",
       "      <td>CANADA</td>\n",
       "      <td>Suburban Areas</td>\n",
       "    </tr>\n",
       "    <tr>\n",
       "      <th>655</th>\n",
       "      <td>CANADA</td>\n",
       "      <td>Metropolitan</td>\n",
       "    </tr>\n",
       "  </tbody>\n",
       "</table>\n",
       "<p>656 rows × 2 columns</p>\n",
       "</div>"
      ],
      "text/plain": [
       "    Country   Living_Region\n",
       "0     INDIA    Metropolitan\n",
       "1     INDIA    Metropolitan\n",
       "2     INDIA     Rural Areas\n",
       "3     INDIA     Rural Areas\n",
       "4     INDIA     Rural Areas\n",
       "..      ...             ...\n",
       "651  CANADA  Suburban Areas\n",
       "652  CANADA    Metropolitan\n",
       "653  CANADA    Metropolitan\n",
       "654  CANADA  Suburban Areas\n",
       "655  CANADA    Metropolitan\n",
       "\n",
       "[656 rows x 2 columns]"
      ]
     },
     "execution_count": 140,
     "metadata": {},
     "output_type": "execute_result"
    }
   ],
   "source": [
    "df.loc[:,['Country','Living_Region']]"
   ]
  },
  {
   "cell_type": "code",
   "execution_count": 113,
   "id": "b464a694-1f17-4835-b5ce-5b65e104645b",
   "metadata": {},
   "outputs": [
    {
     "name": "stdout",
     "output_type": "stream",
     "text": [
      "Living_Region\n",
      "Metropolitan    145\n",
      "Rural Areas      28\n",
      "Name: count, dtype: int64\n",
      "Living_Region\n",
      "Metropolitan      191\n",
      "Suburban Areas     48\n",
      "Rural Areas        13\n",
      "Name: count, dtype: int64\n",
      "Living_Region\n",
      "Metropolitan      102\n",
      "Suburban Areas     97\n",
      "Rural Areas        32\n",
      "Name: count, dtype: int64\n"
     ]
    }
   ],
   "source": [
    "india=df[df['Country']==\"INDIA\"]['Living_Region'].value_counts()\n",
    "china=df[df['Country']==\"CHINA\"]['Living_Region'].value_counts()\n",
    "canada=df[df['Country']==\"CANADA\"]['Living_Region'].value_counts()\n",
    "print(india)\n",
    "print(china)\n",
    "print(canada)"
   ]
  },
  {
   "cell_type": "code",
   "execution_count": 163,
   "id": "a5f515b2-8b35-44b5-a4b9-b5b30155c5ec",
   "metadata": {},
   "outputs": [
    {
     "data": {
      "text/plain": [
       "Gender\n",
       "Female               361\n",
       "Male                 294\n",
       "Prefer not to say      1\n",
       "Name: count, dtype: int64"
      ]
     },
     "execution_count": 163,
     "metadata": {},
     "output_type": "execute_result"
    }
   ],
   "source": [
    "gender=df['Gender'].value_counts()\n",
    "gender"
   ]
  },
  {
   "cell_type": "code",
   "execution_count": 149,
   "id": "660d0f7e-ecca-48df-bde0-21ba6991011c",
   "metadata": {},
   "outputs": [
    {
     "data": {
      "text/plain": [
       "Text(0, 0.5, 'People')"
      ]
     },
     "execution_count": 149,
     "metadata": {},
     "output_type": "execute_result"
    },
    {
     "data": {
      "image/png": "[encoded data removed]",
      "text/plain": [
       "<Figure size 400x400 with 1 Axes>"
      ]
     },
     "metadata": {},
     "output_type": "display_data"
    }
   ],
   "source": [
    "plt.figure(figsize=(4,4))\n",
    "plt.barh(country.index,country.values,color='darkblue',height=0.42)\n",
    "plt.title(\"Which country poeple contribute more in Retail industry\",fontsize=20,color='orange')\n",
    "plt.xlabel(\"Country\",fontsize=19,color='gold')\n",
    "plt.ylabel(\"People\",fontsize=19,color='gold')"
   ]
  },
  {
   "cell_type": "code",
   "execution_count": 165,
   "id": "ab9e83b9-52c3-45fc-9752-05e3f44e0ff5",
   "metadata": {},
   "outputs": [
    {
     "data": {
      "text/plain": [
       "Text(0.5, 1.0, 'CANADA')"
      ]
     },
     "execution_count": 165,
     "metadata": {},
     "output_type": "execute_result"
    },
    {
     "data": {
      "image/png": "[encoded data removed]",
      "text/plain": [
       "<Figure size 640x480 with 3 Axes>"
      ]
     },
     "metadata": {},
     "output_type": "display_data"
    }
   ],
   "source": [
    "plt.subplot(1,3,1)\n",
    "plt.bar(india.index,india.values,color='#757dbf')\n",
    "plt.xlabel('Regions')\n",
    "plt.ylabel(\"People\")\n",
    "plt.xticks(rotation=90)\n",
    "plt.title('INDIA',color='skyblue')\n",
    "\n",
    "\n",
    "plt.subplot(1,3,2)\n",
    "plt.bar(china.index,china.values,color='#933e01')\n",
    "plt.xlabel('Regions')\n",
    "#plt.ylabel(\"People\")\n",
    "plt.xticks(rotation=90)\n",
    "plt.title('CHINA',color='red')\n",
    "\n",
    "\n",
    "plt.subplot(1,3,3)\n",
    "plt.bar(canada.index,canada.values,color='#933ebf')\n",
    "plt.xlabel('Regions')\n",
    "#plt.ylabel(\"People\")\n",
    "plt.xticks(rotation=90)\n",
    "plt.title('CANADA',color='orange')\n",
    "\n"
   ]
  },
  {
   "cell_type": "code",
   "execution_count": 167,
   "id": "0387fba3-f84f-4fef-a1a2-194c56e8520d",
   "metadata": {},
   "outputs": [
    {
     "data": {
      "text/plain": [
       "Text(0.5, 1.0, 'Gender')"
      ]
     },
     "execution_count": 167,
     "metadata": {},
     "output_type": "execute_result"
    },
    {
     "data": {
      "image/png": "[encoded data removed]",
      "text/plain": [
       "<Figure size 640x480 with 1 Axes>"
      ]
     },
     "metadata": {},
     "output_type": "display_data"
    }
   ],
   "source": [
    "#plt.subplot(1,3,3)\n",
    "plt.bar(gender.index,gender.values,color='#2b4867')\n",
    "plt.xlabel('Gender')\n",
    "plt.ylabel(\"Members\")\n",
    "plt.xticks(rotation=0)\n",
    "plt.title('Gender',color='orange')"
   ]
  },
  {
   "cell_type": "code",
   "execution_count": 208,
   "id": "8ba4a121-febd-4732-8536-b477453a3434",
   "metadata": {},
   "outputs": [
    {
     "data": {
      "text/plain": [
       "Product_Category_Appliances\n",
       "YES    329\n",
       "NO     327\n",
       "Name: count, dtype: int64"
      ]
     },
     "execution_count": 208,
     "metadata": {},
     "output_type": "execute_result"
    }
   ],
   "source": [
    "Appliances=df.loc[:,'Product_Category_Appliances'].value_counts()\n",
    "Appliances"
   ]
  },
  {
   "cell_type": "code",
   "execution_count": 209,
   "id": "af5a81fd-5739-46cc-97a1-f820b8896986",
   "metadata": {},
   "outputs": [
    {
     "data": {
      "text/plain": [
       "Product_Category_Electronics\n",
       "YES    432\n",
       "NO     224\n",
       "Name: count, dtype: int64"
      ]
     },
     "execution_count": 209,
     "metadata": {},
     "output_type": "execute_result"
    }
   ],
   "source": [
    "Electronics=df.loc[:,'Product_Category_Electronics'].value_counts()\n",
    "Electronics"
   ]
  },
  {
   "cell_type": "code",
   "execution_count": 210,
   "id": "b9a15efd-02f1-4374-b982-749993fa68b8",
   "metadata": {},
   "outputs": [
    {
     "data": {
      "text/plain": [
       "Product_Category_Groceries\n",
       "NO     374\n",
       "YES    282\n",
       "Name: count, dtype: int64"
      ]
     },
     "execution_count": 210,
     "metadata": {},
     "output_type": "execute_result"
    }
   ],
   "source": [
    "Groceries=df.loc[:,'Product_Category_Groceries'].value_counts()\n",
    "Groceries"
   ]
  },
  {
   "cell_type": "code",
   "execution_count": 211,
   "id": "b515ee5b-6379-45b1-b60c-99a2655599e9",
   "metadata": {},
   "outputs": [
    {
     "data": {
      "text/plain": [
       "Product_Category_Personal_Care\n",
       "YES    342\n",
       "NO     314\n",
       "Name: count, dtype: int64"
      ]
     },
     "execution_count": 211,
     "metadata": {},
     "output_type": "execute_result"
    }
   ],
   "source": [
    "Personal_Care=df.loc[:,'Product_Category_Personal_Care'].value_counts()\n",
    "Personal_Care"
   ]
  },
  {
   "cell_type": "code",
   "execution_count": null,
   "id": "8f7f0031-3328-4085-afdb-93b7d8f19a46",
   "metadata": {},
   "outputs": [],
   "source": []
  },
  {
   "cell_type": "code",
   "execution_count": 212,
   "id": "f8047d5e-56c9-47c1-81ca-00a7a3e8ef87",
   "metadata": {},
   "outputs": [
    {
     "data": {
      "text/plain": [
       "Product_Category_Clothing\n",
       "YES    480\n",
       "NO     176\n",
       "Name: count, dtype: int64"
      ]
     },
     "execution_count": 212,
     "metadata": {},
     "output_type": "execute_result"
    }
   ],
   "source": [
    "Clothing=df.loc[:,'Product_Category_Clothing'].value_counts()\n",
    "Clothing"
   ]
  },
  {
   "cell_type": "code",
   "execution_count": 213,
   "id": "b6bfbfc1-04e3-400a-9111-a2fa9b63336c",
   "metadata": {},
   "outputs": [],
   "source": [
    "import seaborn as sns"
   ]
  },
  {
   "cell_type": "code",
   "execution_count": 220,
   "id": "24e0de90-a2ee-4a3a-a07e-1991443e8a1e",
   "metadata": {},
   "outputs": [
    {
     "data": {
      "text/plain": [
       "Text(0.5, 1.0, 'Clothing')"
      ]
     },
     "execution_count": 220,
     "metadata": {},
     "output_type": "execute_result"
    },
    {
     "data": {
      "image/png": "[encoded data removed]",
      "text/plain": [
       "<Figure size 640x480 with 5 Axes>"
      ]
     },
     "metadata": {},
     "output_type": "display_data"
    }
   ],
   "source": [
    "plt.subplot(3,2,1)\n",
    "plt.bar(Appliances.index,Appliances.values,color='#757dbf')\n",
    "plt.xlabel('Resopnse')\n",
    "plt.ylabel(\"Number\")\n",
    "plt.xticks(rotation=90)\n",
    "plt.title('Appliances',color='skyblue')\n",
    "#plt.tight_layout()\n",
    "\n",
    "plt.subplot(3,2,2)\n",
    "plt.bar(Electronics.index,Electronics.values,color='#933e01')\n",
    "plt.xlabel('Resopnse')\n",
    "#plt.ylabel(\"People\")\n",
    "plt.xticks(rotation=90)\n",
    "plt.title('Electronics',color='red')\n",
    "\n",
    "\n",
    "plt.subplot(3,2,3)\n",
    "plt.bar(Groceries.index,Groceries.values,color='#933ebf')\n",
    "plt.xlabel('Resopnse')\n",
    "plt.ylabel(\"Number\")\n",
    "plt.xticks(rotation=90)\n",
    "plt.title('Groceries',color='orange')\n",
    "\n",
    "plt.subplot(3,2,4)\n",
    "plt.bar(Personal_Care.index,Personal_Care.values,color='#89e325')\n",
    "plt.xlabel('Resopnse')\n",
    "#plt.ylabel(\"People\")\n",
    "plt.xticks(rotation=90)\n",
    "plt.title('Personal_Care',color='orange')\n",
    "\n",
    "plt.subplot(3,2,5)\n",
    "plt.bar(Clothing.index,Clothing.values,color='#3797eb')\n",
    "plt.xlabel('Resopnse')\n",
    "plt.ylabel(\"Number\")\n",
    "plt.xticks(rotation=90)\n",
    "plt.title('Clothing',color='orange')"
   ]
  },
  {
   "cell_type": "code",
   "execution_count": null,
   "id": "9f7335a2-9dc4-4137-969f-040957ff22f1",
   "metadata": {},
   "outputs": [],
   "source": [
    "conn.commit()\n",
    "cursor.close()\n",
    "conn.close()\n",
    "print(\"Data is successfully loaded into your server\")"
   ]
  },
  {
   "cell_type": "code",
   "execution_count": null,
   "id": "99092a4c-1073-464e-a975-14805922e5e1",
   "metadata": {},
   "outputs": [],
   "source": []
  }
 ],
 "metadata": {
  "kernelspec": {
   "display_name": "Python 3 (ipykernel)",
   "language": "python",
   "name": "python3"
  },
  "language_info": {
   "codemirror_mode": {
    "name": "ipython",
    "version": 3
   },
   "file_extension": ".py",
   "mimetype": "text/x-python",
   "name": "python",
   "nbconvert_exporter": "python",
   "pygments_lexer": "ipython3",
   "version": "3.12.7"
  }
 },
 "nbformat": 4,
 "nbformat_minor": 5
}
